{
  "nbformat": 4,
  "nbformat_minor": 0,
  "metadata": {
    "colab": {
      "name": "Demo1.ipynb",
      "provenance": [],
      "collapsed_sections": [],
      "authorship_tag": "ABX9TyOkrcy4BthSmkswgxh+1Bml",
      "include_colab_link": true
    },
    "kernelspec": {
      "name": "python3",
      "display_name": "Python 3"
    }
  },
  "cells": [
    {
      "cell_type": "markdown",
      "metadata": {
        "id": "view-in-github",
        "colab_type": "text"
      },
      "source": [
        "<a href=\"https://colab.research.google.com/github/Ismael99/PythonPracticeJupyter/blob/main/Demo1.ipynb\" target=\"_parent\"><img src=\"https://colab.research.google.com/assets/colab-badge.svg\" alt=\"Open In Colab\"/></a>"
      ]
    },
    {
      "cell_type": "markdown",
      "metadata": {
        "id": "OpG0AnbdJIFT"
      },
      "source": [
        "**Example Title**"
      ]
    },
    {
      "cell_type": "code",
      "metadata": {
        "colab": {
          "base_uri": "https://localhost:8080/"
        },
        "id": "P9vFM9qoJCcK",
        "outputId": "2cb19186-e085-479f-b366-addb3107eb15"
      },
      "source": [
        "for i in range(1, 11):\n",
        "  if(i%2==0):\n",
        "    print(\"Par\")\n",
        "  else:\n",
        "    print(\"Impar\")"
      ],
      "execution_count": null,
      "outputs": [
        {
          "output_type": "stream",
          "text": [
            "Impar\n",
            "Par\n",
            "Impar\n",
            "Par\n",
            "Impar\n",
            "Par\n",
            "Impar\n",
            "Par\n",
            "Impar\n",
            "Par\n"
          ],
          "name": "stdout"
        }
      ]
    }
  ]
}